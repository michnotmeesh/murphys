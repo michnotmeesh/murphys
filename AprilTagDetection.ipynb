{
  "cells": [
    {
      "cell_type": "markdown",
      "metadata": {
        "id": "view-in-github",
        "colab_type": "text"
      },
      "source": [
        "<a href=\"https://colab.research.google.com/github/michnotmeesh/murphys/blob/main/AprilTagDetection.ipynb\" target=\"_parent\"><img src=\"https://colab.research.google.com/assets/colab-badge.svg\" alt=\"Open In Colab\"/></a>"
      ]
    },
    {
      "cell_type": "markdown",
      "source": [
        "# **PART 1**"
      ],
      "metadata": {
        "id": "GJ8NTJTPOBDx"
      }
    },
    {
      "cell_type": "code",
      "execution_count": null,
      "metadata": {
        "id": "4jkUEEqTgFkO",
        "colab": {
          "base_uri": "https://localhost:8080/"
        },
        "outputId": "4678be79-6f62-4053-d908-23a0589cb969"
      },
      "outputs": [
        {
          "output_type": "stream",
          "name": "stdout",
          "text": [
            "Collecting apriltag\n",
            "  Downloading apriltag-0.0.16.tar.gz (201 kB)\n",
            "\u001b[?25l     \u001b[90m━━━━━━━━━━━━━━━━━━━━━━━━━━━━━━━━━━━━━━━━\u001b[0m \u001b[32m0.0/201.2 kB\u001b[0m \u001b[31m?\u001b[0m eta \u001b[36m-:--:--\u001b[0m\r\u001b[2K     \u001b[91m━━━━━━━━━━━━━━━━━━━━━━━━━━━━━━━━━━━━━\u001b[0m\u001b[91m╸\u001b[0m\u001b[90m━\u001b[0m \u001b[32m194.6/201.2 kB\u001b[0m \u001b[31m6.1 MB/s\u001b[0m eta \u001b[36m0:00:01\u001b[0m\r\u001b[2K     \u001b[90m━━━━━━━━━━━━━━━━━━━━━━━━━━━━━━━━━━━━━━━\u001b[0m \u001b[32m201.2/201.2 kB\u001b[0m \u001b[31m5.0 MB/s\u001b[0m eta \u001b[36m0:00:00\u001b[0m\n",
            "\u001b[?25h  Preparing metadata (setup.py) ... \u001b[?25l\u001b[?25hdone\n",
            "Building wheels for collected packages: apriltag\n",
            "  Building wheel for apriltag (setup.py) ... \u001b[?25l\u001b[?25hdone\n",
            "  Created wheel for apriltag: filename=apriltag-0.0.16-cp310-cp310-linux_x86_64.whl size=511965 sha256=712cc507f1b851a25a3374156bf13e604d32a09efc8f9635ecfbe6b40bbc18d8\n",
            "  Stored in directory: /root/.cache/pip/wheels/06/b0/0f/31eead0216b5f1df61d62733b48d7c2247912bfe64808f8ea5\n",
            "Successfully built apriltag\n",
            "Installing collected packages: apriltag\n",
            "Successfully installed apriltag-0.0.16\n"
          ]
        }
      ],
      "source": [
        "pip install apriltag"
      ]
    },
    {
      "cell_type": "code",
      "execution_count": null,
      "metadata": {
        "id": "zy2Yw4iFWDau",
        "colab": {
          "base_uri": "https://localhost:8080/"
        },
        "outputId": "e043f92e-ccfb-4ede-ad68-23e8d7c4a6c2"
      },
      "outputs": [
        {
          "output_type": "stream",
          "name": "stdout",
          "text": [
            "Collecting python-docx\n",
            "  Downloading python-docx-0.8.11.tar.gz (5.6 MB)\n",
            "\u001b[?25l     \u001b[90m━━━━━━━━━━━━━━━━━━━━━━━━━━━━━━━━━━━━━━━━\u001b[0m \u001b[32m0.0/5.6 MB\u001b[0m \u001b[31m?\u001b[0m eta \u001b[36m-:--:--\u001b[0m\r\u001b[2K     \u001b[91m━\u001b[0m\u001b[91m╸\u001b[0m\u001b[90m━━━━━━━━━━━━━━━━━━━━━━━━━━━━━━━━━━━━━━\u001b[0m \u001b[32m0.2/5.6 MB\u001b[0m \u001b[31m7.2 MB/s\u001b[0m eta \u001b[36m0:00:01\u001b[0m\r\u001b[2K     \u001b[91m━━━━━━━━━━━━\u001b[0m\u001b[91m╸\u001b[0m\u001b[90m━━━━━━━━━━━━━━━━━━━━━━━━━━━\u001b[0m \u001b[32m1.8/5.6 MB\u001b[0m \u001b[31m25.7 MB/s\u001b[0m eta \u001b[36m0:00:01\u001b[0m\r\u001b[2K     \u001b[91m━━━━━━━━━━━━━━━━━━━━━━━━━━━━━━━━━━━━━━━\u001b[0m\u001b[91m╸\u001b[0m \u001b[32m5.6/5.6 MB\u001b[0m \u001b[31m58.6 MB/s\u001b[0m eta \u001b[36m0:00:01\u001b[0m\r\u001b[2K     \u001b[90m━━━━━━━━━━━━━━━━━━━━━━━━━━━━━━━━━━━━━━━━\u001b[0m \u001b[32m5.6/5.6 MB\u001b[0m \u001b[31m44.1 MB/s\u001b[0m eta \u001b[36m0:00:00\u001b[0m\n",
            "\u001b[?25h  Preparing metadata (setup.py) ... \u001b[?25l\u001b[?25hdone\n",
            "Requirement already satisfied: lxml>=2.3.2 in /usr/local/lib/python3.10/dist-packages (from python-docx) (4.9.2)\n",
            "Building wheels for collected packages: python-docx\n",
            "  Building wheel for python-docx (setup.py) ... \u001b[?25l\u001b[?25hdone\n",
            "  Created wheel for python-docx: filename=python_docx-0.8.11-py3-none-any.whl size=184491 sha256=5de01ebf05f9dcad3e0567b2b0fd8f499bc0d9fbe99ca16b141b70c37339bd45\n",
            "  Stored in directory: /root/.cache/pip/wheels/80/27/06/837436d4c3bd989b957a91679966f207bfd71d358d63a8194d\n",
            "Successfully built python-docx\n",
            "Installing collected packages: python-docx\n",
            "Successfully installed python-docx-0.8.11\n"
          ]
        }
      ],
      "source": [
        "pip install python-docx"
      ]
    },
    {
      "cell_type": "code",
      "execution_count": null,
      "metadata": {
        "id": "G8W85sy3bNP6"
      },
      "outputs": [],
      "source": [
        "from google.colab import drive\n",
        "drive.mount('/content/drive')"
      ]
    },
    {
      "cell_type": "code",
      "execution_count": null,
      "metadata": {
        "id": "o6JoroN2bJd5"
      },
      "outputs": [],
      "source": [
        "import os\n",
        "import cv2\n",
        "import csv\n",
        "import apriltag\n",
        "import datetime\n",
        "import math\n",
        "import numpy as np\n",
        "import matplotlib.cm as cm\n",
        "from matplotlib import pyplot as plt\n",
        "from docx import Document\n",
        "from docx.shared import Inches"
      ]
    },
    {
      "cell_type": "code",
      "execution_count": null,
      "metadata": {
        "id": "9PeICvCEZoTK"
      },
      "outputs": [],
      "source": [
        "#TO DO:\n",
        "# f\n",
        "# K\n",
        "# videoname\n",
        "# cap\n",
        "# tagsize\n",
        "# directory\n",
        "# options > quad_contours ~ F / T"
      ]
    },
    {
      "cell_type": "code",
      "execution_count": null,
      "metadata": {
        "id": "4Qp4dondcA7g"
      },
      "outputs": [],
      "source": [
        "#default data\n",
        "radius = 101.5 #mm\n",
        "total_num_frame = 0\n",
        "\n",
        "# camera parameters in pixels (final_)\n",
        "fx = 0.7756362692955363 #220.82561105300002 mm\n",
        "fy = 1.3514092147513248\n",
        "\n",
        "cx = 1969.22358 # 3840/2 #-1.3085625174541973e-05\n",
        "cy = 1126.711382 #2160/2 #-1.1451102520767267e-05\n",
        "camera_params = (fx, fy,cx,cy)\n",
        "\n",
        "#date and time\n",
        "now = datetime.datetime.now()\n",
        "date = now.strftime(\"_%m-%d-%Y_%H-%M-%S\")"
      ]
    },
    {
      "cell_type": "code",
      "execution_count": null,
      "metadata": {
        "id": "NdwEbz_MC7IN"
      },
      "outputs": [],
      "source": [
        "##~~~ For the radius calculation\n",
        "# moving thia inside ath e cap.isopened\n",
        "# K = np.array([[fx, 0, cx], [0, fy, cy], [0, 0, 1]])\n",
        "# dist_coef = np.zeros((5,1))\n",
        "# center = np.array([0, 0, 0])\n",
        "\n",
        "###~~~ to contain tag positions on the OSA\n",
        "tag_pos_osa = []"
      ]
    },
    {
      "cell_type": "code",
      "execution_count": null,
      "metadata": {
        "id": "0X9ymIE0cPvG"
      },
      "outputs": [],
      "source": [
        "#video file\n",
        "videoname = \"Flight1Parabola2Run1Cam5\"\n",
        "cap = cv2.VideoCapture('/content/drive/MyDrive/AR Tags/2. Data/Videos/'+ videoname + '.mp4') #change path name\n",
        "i = 0\n",
        "\n",
        "#artag file\n",
        "artag_filename = videoname + date + '(0,0)'"
      ]
    },
    {
      "cell_type": "code",
      "source": [
        "## get the Original width and height\n",
        "original_width = int(cap.get(cv2.CAP_PROP_FRAME_WIDTH))\n",
        "original_height = int(cap.get(cv2.CAP_PROP_FRAME_HEIGHT))\n",
        "\n",
        "print('Width: ' + str(original_width))\n",
        "print('Height: ' + str(original_height))\n",
        "\n",
        "# Set the desired dimensions for downscaled frames\n",
        "target_width = 1080 #1920\n",
        "target_height = 960 #1080\n",
        "\n",
        "# Calculate the scaling factors\n",
        "scale_x = target_width / original_width\n",
        "scale_y = target_height / original_height\n"
      ],
      "metadata": {
        "id": "WSQDIHf9qJVR"
      },
      "execution_count": null,
      "outputs": []
    },
    {
      "cell_type": "code",
      "execution_count": null,
      "metadata": {
        "id": "4IpdL7CicT3j"
      },
      "outputs": [],
      "source": [
        "#directories\n",
        "directory = \"/content/drive/MyDrive/AR Tags/2. Data/Data/\"\n",
        "path = os.path.join(directory, artag_filename)\n",
        "os.mkdir(path)\n",
        "artag_dir = directory + artag_filename + \"/\"\n",
        "frame_dir = \"Frames\"\n",
        "path = os.path.join(artag_dir, frame_dir)\n",
        "os.mkdir(path)\n",
        "tag_dir = \"Tags\"\n",
        "path = os.path.join(artag_dir, tag_dir)\n",
        "os.mkdir(path)"
      ]
    },
    {
      "cell_type": "code",
      "execution_count": null,
      "metadata": {
        "id": "sB0CFVKCcZ2b"
      },
      "outputs": [],
      "source": [
        "## timestamp\n",
        "fps = cap.get(cv2.CAP_PROP_FPS)\n",
        "print(\"FPS: \")\n",
        "print(fps)\n",
        "FPS= []\n",
        "success, image = cap.read()\n",
        "count = 0\n",
        "success = True"
      ]
    },
    {
      "cell_type": "code",
      "execution_count": null,
      "metadata": {
        "id": "7_jLB73fcaqj"
      },
      "outputs": [],
      "source": [
        "\n",
        "## CSV\n",
        "fields = ['frame','time','tag ID','SROA/OSA','pos x', 'pos y', 'pos z',\n",
        "        'R11','R12','R13','R21','R22','R23','R31','R32','R33',\n",
        "        'XR(osa)', 'YR(osa)', 'ZR(osa)', 'OSA radius']\n",
        "rows = []\n",
        "\n",
        "filename = artag_dir + artag_filename + \".csv\"\n"
      ]
    },
    {
      "cell_type": "code",
      "execution_count": null,
      "metadata": {
        "id": "1U8adLKEcdfq"
      },
      "outputs": [],
      "source": [
        "with open(filename, 'w') as csvfile:\n",
        "    csvwriter = csv.writer(csvfile)\n",
        "    csvwriter.writerow(fields)\n",
        "    while success:\n",
        "        while(cap.isOpened()):\n",
        "            #ret, frame = cap.read()\n",
        "            success, frame = cap.read()\n",
        "\n",
        "            if success == False:\n",
        "                break\n",
        "        #naming each frame\n",
        "            framename = artag_dir + frame_dir + '/' + artag_filename + '_frame_' + str(i)\n",
        "            cv2.imwrite(framename + '.png', frame)\n",
        "\n",
        "            img = framename + '.png'\n",
        "\n",
        "            total_num_frame +=1\n",
        "\n",
        "        #getting image\n",
        "            image = cv2.imread(img)\n",
        "\n",
        "        ### resize frame\n",
        "            image = cv2.resize(image, None, fx=scale_x, fy=scale_y)\n",
        "\n",
        "            gray = cv2.cvtColor(image, cv2.COLOR_BGR2GRAY)\n",
        "\n",
        "        #detecting tags\n",
        "            print(\"[INFO] detecting AprilTags...(yessuh)\")\n",
        "            options = apriltag.DetectorOptions(families=\"tag36h11\",\n",
        "                    border =1, nthreads=4, quad_decimate =1.0,\n",
        "                    quad_blur=0.0, refine_edges=True, refine_decode=False,\n",
        "                    refine_pose=True, debug=True, quad_contours=True)\n",
        "            detector = apriltag.Detector(options)\n",
        "            results = detector.detect(gray)\n",
        "            print(\"***[INFO] {} total AprilTags detected!\".format(len(results)))\n",
        "            # To check values of results\n",
        "            print(\"**[INFO] Tags Detected: \" + str(results) + \" [END INFO]**\")\n",
        "            sroa = [111, 112, 113, 114, 14, 7, 8, 15] #can be seen in this cam5 angle\n",
        "            osa =[]\n",
        "            sroas=[]\n",
        "\n",
        "        ## timestamp\n",
        "            count+=1\n",
        "            time= count/fps\n",
        "            FPS.append(time)\n",
        "\n",
        "            ###~~~ to contain tag positions on the OSA\n",
        "            # tag_pos_osa = {}\n",
        "\n",
        "        ## Moveed the  camera matrix and distortion coefficients array\n",
        "            K = np.array([[fx, 0, cx], [0, fy, cy], [0, 0, 1]])\n",
        "            dist_coef = np.zeros((5,1))\n",
        "\n",
        "        # results\n",
        "            for r in results:\n",
        "                #print(r.decode('UTF-8'))\n",
        "                (ptA, ptB, ptC, ptD) = r.corners\n",
        "          #added for the TRIAL\n",
        "                corners = r.corners\n",
        "\n",
        "                ptA = (int(ptA[0]), int(ptA[1]))\n",
        "                ptB = (int(ptB[0]), int(ptB[1]))\n",
        "                ptC = (int(ptC[0]), int(ptC[1]))\n",
        "                ptD = (int(ptD[0]), int(ptD[1]))\n",
        "          # START changed image to frame\n",
        "                cv2.line(frame, ptA, ptB, (0, 255, 0), 2)\n",
        "                cv2.line(frame, ptB, ptC, (0, 255, 0), 2)\n",
        "                cv2.line(frame, ptC, ptD, (0, 255, 0), 2)\n",
        "                cv2.line(frame, ptD, ptA, (0, 255, 0), 2)\n",
        "\n",
        "                (cX, cY) = (int(r.center[0]), int(r.center[1]))\n",
        "                cv2.circle(frame, (cX,cY), 5, (0, 0, 255), -1)\n",
        "                print(\"[INFO] Center: (\" + str(r.center[0]) + \", \" + str(r.center[1]) + \")\")\n",
        "\n",
        "                tagFamily = r.tag_family.decode(\"utf-8\")\n",
        "                tagID = str(r.tag_id)\n",
        "                cv2.putText(frame, tagID, (ptA[0], ptA[1] - 15),\n",
        "                        cv2.FONT_HERSHEY_SIMPLEX, 0.5, (0, 255, 0), 2)\n",
        "\n",
        "                print(\"[INFO] tag family: {}\".format(tagFamily))\n",
        "                print(\"[INFO] tag ID: {}\".format(tagID))\n",
        "\n",
        "          # END changed image to frame\n",
        "            #To clasify tags\n",
        "                if r.tag_id in sroa:\n",
        "                    print(\"[INFO] Tag {} is in SROA\".format(str(r.tag_id)))\n",
        "                    sroas.append(r.tag_id)\n",
        "                    print('SROA: ')\n",
        "                    print(sroas)\n",
        "                    tag = \"SROA\"\n",
        "                else:\n",
        "                    print(\"[INFO] Tag {} is in OSA\".format(str(r.tag_id)))\n",
        "                    osa.append(r.tag_id)\n",
        "                    print('OSA: ')\n",
        "                    print(osa)\n",
        "                    tag = \"OSA\"\n",
        "                    tag_pos_osa.append(r)\n",
        "\n",
        "                poses = detector.detection_pose(r, camera_params, tag_size=14, z_sign=1) #tagsize is 14 mm\n",
        "\n",
        "                # rows.append([str(i), str(time), r.tag_id, tag,\n",
        "                #              poses[0][0][3], poses[0][1][3], poses[0][2][3],\n",
        "                #              poses[0][0][0], poses[0][0][1], poses[0][0][2],\n",
        "                #              poses[0][1][0], poses[0][1][1], poses[0][1][2],\n",
        "                #              poses[0][2][0], poses[0][2][1], poses[0][2][2],\n",
        "                #              (poses[0][0][3] - (radius * poses[0][0][2])),\n",
        "                #              (poses[0][1][3] - (radius * poses[0][1][2])),\n",
        "                #              (poses[0][2][3] - (radius * poses[0][2][2]))])\n",
        "\n",
        "            ####~~~~ to get the tvec and rvec\n",
        "                # R = np.array([[poses[0][0][0], poses[0][0][1], poses[0][0][2]],\n",
        "                #              [poses[0][1][0], poses[0][1][1], poses[0][1][2]],\n",
        "                #              [poses[0][2][0], poses[0][2][1], poses[0][2][2]]])\n",
        "                # t = np.array([poses[0][0][3], poses[0][1][3], poses[0][2][3]])\n",
        "                # rvec, _ = cv2.Rodrigues(R)\n",
        "                # tvec = t.reshape(-1,1)\n",
        "\n",
        "## Trial from CHATGPT\n",
        "                # Example usage of camera matrix K\n",
        "                homogeneous_corners = np.vstack((corners.T, np.ones((1, 4))))  # Homogeneous coordinates\n",
        "                world_corners = np.linalg.inv(K) @ homogeneous_corners  # Transform to world coordinates\n",
        "\n",
        "                # Compute tag position and orientation\n",
        "                _, rvec, tvec= cv2.solvePnP(world_corners.T, corners, K, dist_coef)\n",
        "                rotation_matrix, _ = cv2.Rodrigues(rvec)\n",
        "                pos = -np.dot(rotation_matrix.T, tvec)\n",
        "                ori = rotation_matrix.T\n",
        "\n",
        "\n",
        "                 # Print the detected tag information (in millimeters)\n",
        "                print(\"Tag ID:\", tagID)\n",
        "                print(\"Position (in millimeters):\", pos.flatten())\n",
        "                print(\"Orientation (rotation matrix):\", ori)\n",
        "                print()\n",
        "## END TRIAL\n",
        "\n",
        "\n",
        "            #compute\n",
        "                print(\"[START] THIS IS NOT FIXED\")\n",
        "                distance = np.linalg.norm(tvec)\n",
        "\n",
        "                tag_size = np.mean(np.abs(r.corners[0]-r.corners[2]))\n",
        "                r_pixel = tag_size * radius / (distance * np.mean([fx, fy])) # changing this to (fx,fy) => f)\n",
        "\n",
        "                rad = r_pixel * radius / tag_size\n",
        "                print(\"[END] THIS IS NOT FIXED\")\n",
        "\n",
        "                # tag_radius = get_sphere_radius()\n",
        "        #has 1mm difference~~\n",
        "                # # Calculate tag position relative to the camera\n",
        "                # position = np.dot(R, np.array([0, 0, 0])) + t\n",
        "\n",
        "                # # Calculate distance between camera and tag\n",
        "                # distance = np.linalg.norm(position)\n",
        "\n",
        "                # # Calculate radius of the sphere\n",
        "                # tag_radius = distance - radius\n",
        "        #~~\n",
        "\n",
        "\n",
        "  ## OG\n",
        "                # rows.append([str(i), str(time), r.tag_id, tag,\n",
        "                #              poses[0][0][3], poses[0][1][3], poses[0][2][3],\n",
        "                #              poses[0][0][0], poses[0][0][1], poses[0][0][2],\n",
        "                #              poses[0][1][0], poses[0][1][1], poses[0][1][2],\n",
        "                #              poses[0][2][0], poses[0][2][1], poses[0][2][2],\n",
        "                #              (poses[0][0][3] - (radius * poses[0][0][2])),\n",
        "                #              (poses[0][1][3] - (radius * poses[0][1][2])),\n",
        "                #              (poses[0][2][3] - (radius * poses[0][2][2])),\n",
        "                #              rad])\n",
        "  ## END OG\n",
        "\n",
        "                rows.append([str(i), str(time), r.tag_id, tag,\n",
        "                             pos[0], pos[1], pos[2],\n",
        "                             ori[0][0], ori[0][1], ori[0][2],\n",
        "                             ori[1][0], ori[1][1], ori[1][2],\n",
        "                             ori[2][0], ori[2][1], ori[2][2],\n",
        "                             (ori[0][0] - (radius * ori[0][2])),\n",
        "                             (ori[0][1] - (radius * ori[1][2])),\n",
        "                             (ori[0][2] - (radius * ori[2][2])),\n",
        "                             rad])\n",
        "\n",
        "\n",
        "\n",
        "\n",
        "        ## Calculate sphere center and radius\n",
        "                # if np.linalg.norm(tvec) < radius:\n",
        "                #   tag_pos_osa[r.tag_id] = tvec.flatten()\n",
        "            # if len(tag_pos_osa) >= 3:\n",
        "            #   A = np.zeros((3, 3))\n",
        "            #   B = np.zeros((3, 1))\n",
        "            #   for tag_id in tag_pos_osa:\n",
        "            #     A += np.outer(tag_pos_osa[tag_id], tag_pos_osa[tag_id])\n",
        "            #     B += tag_pos_osa[tag_id].reshape(3, 1) * (radius ** 2 - np.linalg.norm(tag_pos_osa[tag_id]) ** 2)\n",
        "            #   center = np.linalg.solve(A, B).flatten()\n",
        "            #   radius = np.mean([np.linalg.norm(tag_pos_osa[tag_id]) for tag_id in tag_pos_osa])\n",
        "            # print(\"**IMPORTANT**: Radius is: {}\".format(radius))\n",
        "\n",
        "            # rows.append([radius])\n",
        "\n",
        "        #naming each frame\n",
        "            tagname = artag_dir + tag_dir + '/' + artag_filename + '_tagFrame_' + str(i)\n",
        "            # print(\"[Extract] It extracted \"+ tagname)\n",
        "            cv2.imwrite(tagname +'.png', image)\n",
        "            csvwriter.writerows(rows)\n",
        "\n",
        "            rows = []\n",
        "            i+=1\n",
        "\n",
        "\n"
      ]
    },
    {
      "cell_type": "code",
      "execution_count": null,
      "metadata": {
        "id": "JAEgj3OlePHl"
      },
      "outputs": [],
      "source": [
        "import shutil\n",
        "\n",
        "# Deleting an non-empty folder\n",
        "dir_path = artag_dir + frame_dir\n",
        "shutil.rmtree(dir_path, ignore_errors=True)\n",
        "print(\"Deleted '%s' directory successfully\" % dir_path)"
      ]
    },
    {
      "cell_type": "code",
      "execution_count": null,
      "metadata": {
        "id": "oC1Db6OsqC_b"
      },
      "outputs": [],
      "source": [
        "# Deleting an non-empty folder\n",
        "dir2_path = artag_dir + tag_dir\n",
        "shutil.rmtree(dir2_path, ignore_errors=True)\n",
        "print(\"Deleted '%s' directory successfully\" % dir2_path)"
      ]
    },
    {
      "cell_type": "code",
      "execution_count": null,
      "metadata": {
        "id": "Z0JVd1VyciBy"
      },
      "outputs": [],
      "source": [
        "cap.release()\n",
        "cv2.destroyAllWindows()"
      ]
    },
    {
      "cell_type": "markdown",
      "metadata": {
        "id": "Ggu4T1-0fwh6"
      },
      "source": [
        "# **PART 2**\n",
        "Plot the tags by:\n",
        "\n",
        "*   All tags\n",
        "*   Individual SROA tags\n",
        "*   Individual OSA tags\n",
        "*   SROA and OSA (2 distinctions only)\n",
        "\n",
        "\n",
        "\n",
        "\n"
      ]
    },
    {
      "cell_type": "code",
      "execution_count": null,
      "metadata": {
        "id": "TL8yMuiefrtG"
      },
      "outputs": [],
      "source": [
        "def get_all_tags(get_filename):\n",
        "    '''\n",
        "    Returns a list of all detected tags, duplicated not allowed\n",
        "    Given filename holds all the collected data from videos\n",
        "    csv file has the following fields:\n",
        "            frame, time, tag ID, SROA/OSA, pos x, pos y, pos z, R11,\n",
        "            R12, R13, R21, R22, R23, R31, R32, R33\n",
        "    '''\n",
        "    tags = []\n",
        "    with open(filename, newline='') as csvfile:\n",
        "        reader = csv.DictReader(csvfile)\n",
        "        for row in reader:\n",
        "          tags.append(int(row['tag ID']))\n",
        "    print(tags)\n",
        "    tags = [*set(tags)]\n",
        "    print(tags)\n",
        "    return tags"
      ]
    },
    {
      "cell_type": "code",
      "execution_count": null,
      "metadata": {
        "id": "yuy5VY3sgEwm"
      },
      "outputs": [],
      "source": [
        "def get_pos_alt(get_tag):\n",
        "    '''\n",
        "    Returns a list of position arrays for a given tag and which frames\n",
        "    that tag was detected. Will read in the csv file and build the position\n",
        "    arrays (x, y, and z) for a given tag\n",
        "    '''\n",
        "    x = []\n",
        "    y = []\n",
        "    z = []\n",
        "    frame = []\n",
        "\n",
        "    with open(filename, newline='') as csvfile:\n",
        "        reader = csv.DictReader(csvfile)\n",
        "        for row in reader:\n",
        "            if row['tag ID'] == str(get_tag):\n",
        "                x.append(float(row['pos x'].strip('[]')))\n",
        "                y.append(float(row['pos y'].strip('[]')))\n",
        "                z.append(float(row['pos z'].strip('[]')))\n",
        "                frame.append(int(row['frame']))\n",
        "\n",
        "    return x, y, z, frame\n"
      ]
    },
    {
      "cell_type": "code",
      "execution_count": null,
      "metadata": {
        "id": "xrnQ6Un6gGJr"
      },
      "outputs": [],
      "source": [
        "################################\n",
        "# Test get_all_tags function\n",
        "# Need to upload the csv of the collected data in the same directory\n",
        "# Set filename to the csv file\n",
        "\n",
        "all_tags = get_all_tags(filename)\n",
        "# print('all ')\n",
        "# print(all_tags)\n",
        "# print('filename ')\n",
        "# print(filename)\n",
        "# print('Amount of unique tags: ' + str(len(all_tags)))\n"
      ]
    },
    {
      "cell_type": "code",
      "execution_count": null,
      "metadata": {
        "id": "4Mm6Onz1gKiB"
      },
      "outputs": [],
      "source": [
        "# Plot positions of ALL detected tags (OSA & SROA)\n",
        "fig = plt.figure(figsize=(8, 8))\n",
        "\n",
        "colors = cm.rainbow(np.linspace(0, 1, len(all_tags)))\n",
        "#print(colors)\n",
        "ax = plt.axes(projection='3d')\n",
        "ax.set_title('Position of All Detected Tags')\n",
        "ax.set_xlabel('X Position')\n",
        "ax.set_ylabel('Y Position')\n",
        "ax.set_zlabel('Z Postion')\n",
        "#print(range(len(all_tags)))\n",
        "\n",
        "for i, c in zip(range(len(all_tags)), colors):\n",
        "    curr_tag = all_tags[i]\n",
        "\n",
        "    # print('curr_tag' + str(curr_tag))\n",
        "    # print('all ' + str(len(all_tags)))\n",
        "    # print('curr ' + str(curr_tag))\n",
        "    x, y, z, frames = get_pos_alt(curr_tag)\n",
        "    # print(len(x))\n",
        "    # print('frames: ')\n",
        "    # print(str(frames))\n",
        "    # print('i: ')\n",
        "    # print(i)\n",
        "    # print('x: ' + str(x))\n",
        "\n",
        "    ax.scatter(x, y, z, color=c, label=str(curr_tag))\n",
        "    plt.legend(bbox_to_anchor=(1.2, 1), loc=\"upper left\")\n",
        "# plt.legend(loc=\"upper right\")\n",
        "plt.show()"
      ]
    },
    {
      "cell_type": "code",
      "execution_count": null,
      "metadata": {
        "id": "uDtFmp3LLkxK"
      },
      "outputs": [],
      "source": [
        "fig.savefig(artag_dir + artag_filename + 'all_tags.png')"
      ]
    },
    {
      "cell_type": "code",
      "execution_count": null,
      "metadata": {
        "id": "QAJk0pyphsHf"
      },
      "outputs": [],
      "source": [
        "# Get only detected OSA tags from all tags data\n",
        "osa_tags = []\n",
        "\n",
        "for tag in all_tags:\n",
        "  if tag < 111:\n",
        "    osa_tags.append(tag)\n",
        "\n",
        "# Plot positions of individual OSA tags only\n",
        "fig = plt.figure(figsize=(8, 8))\n",
        "\n",
        "colors = cm.rainbow(np.linspace(0, 1, len(osa_tags)))\n",
        "ax = plt.axes(projection='3d')\n",
        "ax.set_title('Position of Detected OSA Tags')\n",
        "ax.set_xlabel('X Position')\n",
        "ax.set_ylabel('Y Position')\n",
        "ax.set_zlabel('Z Postion')\n",
        "\n",
        "for i, c in zip(range(len(osa_tags)), colors):\n",
        "    curr_tag = osa_tags[i]\n",
        "\n",
        "    x, y, z, frames = get_pos_alt(curr_tag)\n",
        "\n",
        "    ax.scatter(x, y, z, color=c, label=str(curr_tag))\n",
        "    plt.legend(bbox_to_anchor=(1.2, 1), loc=\"upper left\")\n",
        "plt.show()"
      ]
    },
    {
      "cell_type": "code",
      "source": [
        "fig.savefig(artag_dir + artag_filename + 'osa_tags.png')"
      ],
      "metadata": {
        "id": "3GiHlFEijLX8"
      },
      "execution_count": null,
      "outputs": []
    },
    {
      "cell_type": "code",
      "source": [
        "# Get only detected SROA tags from all tags data\n",
        "sroa_tags = []\n",
        "\n",
        "for tag in all_tags:\n",
        "  if tag > 110:\n",
        "    sroa_tags.append(tag)\n",
        "\n",
        "# Plot positions of individual SROA tags only\n",
        "fig = plt.figure(figsize=(8, 8))\n",
        "\n",
        "colors = cm.rainbow(np.linspace(0, 1, len(sroa_tags)))\n",
        "ax = plt.axes(projection='3d')\n",
        "ax.set_title('Position of Detected SROA Tags')\n",
        "ax.set_xlabel('X Position')\n",
        "ax.set_ylabel('Y Position')\n",
        "ax.set_zlabel('Z Postion')\n",
        "\n",
        "for i, c in zip(range(len(sroa_tags)), colors):\n",
        "    curr_tag = sroa_tags[i]\n",
        "\n",
        "    x, y, z, frames = get_pos_alt(curr_tag)\n",
        "\n",
        "    ax.scatter(x, y, z, color=c, label=str(curr_tag))\n",
        "    plt.legend(bbox_to_anchor=(1.2, 1), loc=\"upper left\")\n",
        "plt.show()"
      ],
      "metadata": {
        "id": "bgwg30OgjNgz"
      },
      "execution_count": null,
      "outputs": []
    },
    {
      "cell_type": "code",
      "source": [
        "fig.savefig(artag_dir + artag_filename + 'sroa_tags.png')"
      ],
      "metadata": {
        "id": "JClQ_fs-02Vz"
      },
      "execution_count": null,
      "outputs": []
    },
    {
      "cell_type": "code",
      "source": [
        "# Plot positions of ALL detected tags (OSA & SROA)\n",
        "fig = plt.figure(figsize=(10, 8))\n",
        "\n",
        "ax = plt.axes(projection='3d')\n",
        "ax.set_title('Position of OSA vs SROA Tags')\n",
        "ax.set_xlabel('X Position')\n",
        "ax.set_ylabel('Y Position')\n",
        "ax.set_zlabel('Z Postion')\n",
        "\n",
        "for i in range(len(all_tags)):\n",
        "    curr_tag = all_tags[i]\n",
        "\n",
        "    x, y, z, frames = get_pos_alt(curr_tag)\n",
        "\n",
        "    if curr_tag < 110:\n",
        "      ax.scatter(x, y, z, color='blue', label=str(curr_tag))\n",
        "    else:\n",
        "      ax.scatter(x, y, z, color='red', label=str(curr_tag))\n",
        "\n",
        "    plt.legend(bbox_to_anchor=(1.2, 1), loc=\"upper left\")\n",
        "# plt.legend(['OSA', 'SROA'], loc=\"upper right\")\n",
        "plt.show()"
      ],
      "metadata": {
        "id": "N7AvTNrE05Q5"
      },
      "execution_count": null,
      "outputs": []
    },
    {
      "cell_type": "code",
      "source": [
        "fig.savefig(artag_dir + artag_filename + 'sroa_vs_osa_tags.png')"
      ],
      "metadata": {
        "id": "d67y7Aen2NNk"
      },
      "execution_count": null,
      "outputs": []
    },
    {
      "cell_type": "code",
      "execution_count": null,
      "metadata": {
        "id": "BeufXshagPgy"
      },
      "outputs": [],
      "source": [
        "# Plot position of SOME detected tags (OSA & SROA)\n",
        "fig = plt.figure(figsize=(8, 8))\n",
        "\n",
        "# TO DO: Need to set the amount of tags to plot\n",
        "num_tags = 5\n",
        "\n",
        "# Set color range\n",
        "colors = cm.rainbow(np.linspace(0, 1, len(all_tags[:num_tags])))\n",
        "ax = plt.axes(projection='3d')\n",
        "ax.set_title('Position of ' + str(num_tags) + ' Detected Tags')\n",
        "ax.set_xlabel('X Position')\n",
        "ax.set_ylabel('Y Position')\n",
        "ax.set_zlabel('Z Postion')\n",
        "\n",
        "for i, c in zip(range(len(all_tags[:num_tags])), colors):\n",
        "    curr_tag = all_tags[i]#+28]\n",
        "    x, y, z, frames = get_pos_alt(curr_tag)\n",
        "    ax.scatter(x, y, z, color=c, label=str(curr_tag))\n",
        "    plt.legend(bbox_to_anchor=(1.2, 1), loc=\"upper left\")\n",
        "\n",
        "plt.show()"
      ]
    },
    {
      "cell_type": "code",
      "execution_count": null,
      "metadata": {
        "id": "Ovpo_R1wRrLm"
      },
      "outputs": [],
      "source": [
        "fig.savefig(artag_dir + artag_filename + str(num_tags) +'_tags.png')"
      ]
    },
    {
      "cell_type": "code",
      "execution_count": null,
      "metadata": {
        "id": "gfEvrSiQPKQ1"
      },
      "outputs": [],
      "source": [
        "# Plot position of SOME detected tags (OSA & SROA)\n",
        "fig = plt.figure(figsize=(8, 8))\n",
        "\n",
        "# print(all_tags)\n",
        "sroas =[]\n",
        "osas = []\n",
        "t13_14 =[]\n",
        "for t in all_tags:\n",
        "  if t in sroa:\n",
        "      # print(\"[INFO] Tag {} is in SROA\".format(str(r.tag_id)))\n",
        "      sroas.append(t)\n",
        "      tag = \"SROA\"\n",
        "  elif t not in sroa:\n",
        "      # print(\"[INFO] Tag {} is in OSA\".format(str(r.tag_id)))\n",
        "      osas.append(t)\n",
        "      tag = \"OSA\"\n",
        "  if t == 13 or t == 14:\n",
        "    t13_14.append(t)\n",
        "\n",
        "print('SROA: ')\n",
        "print(sroas)\n",
        "print('OSA: ')\n",
        "print(osas)\n",
        "print('all tags: ')\n",
        "print(str(len(all_tags)))\n",
        "num_tags = len(sroas)\n",
        "# print(num_tags)\n",
        "\n",
        "# Set color range\n",
        "colors = cm.rainbow(np.linspace(0, 1, len(all_tags[:num_tags])))\n",
        "ax = plt.axes(projection='3d')\n",
        "ax.set_title('Position of ' + str(num_tags) + ' SROA Detected Tags')\n",
        "ax.set_xlabel('X Position')\n",
        "ax.set_ylabel('Y Position')\n",
        "ax.set_zlabel('Z Postion')\n",
        "\n",
        "for i, c in zip(range(len(all_tags[:num_tags])), colors):\n",
        "    curr_tag = all_tags[i]\n",
        "    x, y, z, frames = get_pos_alt(curr_tag)\n",
        "    ax.scatter(x, y, z, color=c, label=str(curr_tag))\n",
        "    plt.legend(bbox_to_anchor=(1.2, 1), loc=\"upper left\")\n",
        "\n",
        "plt.show()"
      ]
    },
    {
      "cell_type": "code",
      "execution_count": null,
      "metadata": {
        "id": "q7xEvvk_R0a2"
      },
      "outputs": [],
      "source": [
        "fig.savefig(artag_dir + artag_filename + str(num_tags) +'_osa_tags.png')"
      ]
    },
    {
      "cell_type": "markdown",
      "metadata": {
        "id": "zxGqNSjUWL5x"
      },
      "source": [
        "#Part 3\n",
        "*Find the distance between OSA tags by frame and by magnet, then compare it to the distances recorded in the metrology*"
      ]
    },
    {
      "cell_type": "code",
      "source": [
        "import csv\n",
        "import numpy as np\n",
        "import math\n",
        "import matplotlib.pyplot as plt\n",
        "from collections import defaultdict"
      ],
      "metadata": {
        "id": "Xk9Ln91iWAfn"
      },
      "execution_count": null,
      "outputs": []
    },
    {
      "cell_type": "code",
      "source": [
        "# Returns list of all detected tags, duplicates not allowed and amount of frames\n",
        "def get_logistics():\n",
        "  tags = []\n",
        "  frames = []\n",
        "  with open(filename, newline='') as csvfile:\n",
        "          reader = csv.DictReader(csvfile)\n",
        "          for row in reader:\n",
        "                  tags.append(int(row['tag ID']))\n",
        "                  frames.append(int(row['frame']))\n",
        "\n",
        "  tags = [*set(tags)]\n",
        "  frames = [*set(frames)]\n",
        "  return tags, frames\n",
        "\n",
        "tags, frames = get_logistics()\n",
        "print(\"Amount of unique tags: \" + str(len(tags)))\n",
        "print(tags)\n",
        "print(\"Amount of unique frames: \" + str(len(frames)))\n",
        "print(frames)"
      ],
      "metadata": {
        "id": "uyIwEC12WCac"
      },
      "execution_count": null,
      "outputs": []
    },
    {
      "cell_type": "code",
      "source": [
        "# Open csv file sort, get all tags by tagID < 110\n",
        "# Keys: frame\n",
        "# Values: tags\n",
        "def get_osa_tags_dict():\n",
        "  osa_tags = defaultdict(list)\n",
        "\n",
        "  with open(filename, newline='') as csvfile:\n",
        "    reader = csv.DictReader(csvfile)\n",
        "    for row in reader:\n",
        "      # Get the tags on the OSA. OSA tags values do not go over 110. See metrology.\n",
        "      if int(row['tag ID']) < 110:\n",
        "        frame = row['frame']\n",
        "        tag = row['tag ID']\n",
        "        osa_tags[frame].append(tag)\n",
        "\n",
        "  return osa_tags\n",
        "\n",
        "# Dictionary of tags per frame\n",
        "osa_tags2 = get_osa_tags_dict()\n",
        "print(osa_tags2)\n",
        "# print(osa_tags.keys())\n",
        "# print(osa_tags.values())"
      ],
      "metadata": {
        "id": "Qh_aolLWWppI"
      },
      "execution_count": null,
      "outputs": []
    },
    {
      "cell_type": "code",
      "source": [
        "# Find all possiible detected pairs on the same magnet in the same frame\n",
        "for frame in osa_tags2.keys():\n",
        "  curr_tags = osa_tags2[frame]\n",
        "  print(\"Frame: \" + frame)\n",
        "  for i in range(len(curr_tags)):\n",
        "    for j in range(i + 1, len(curr_tags)):\n",
        "      curr = int(curr_tags[i])\n",
        "      next = int(curr_tags[j])\n",
        "\n",
        "      # Compare each tag within a frame, plus or minus 4, to find if it is on the same panel of OSA\n",
        "      if (abs(curr - next) < 5):\n",
        "        print(\"Match found!\")"
      ],
      "metadata": {
        "id": "pOEIjsPIW2sO"
      },
      "execution_count": null,
      "outputs": []
    },
    {
      "cell_type": "code",
      "source": [
        "# Once a pair is found, open up the data again.\n",
        "# Find the correct data that corresponds to the tag and frame then find distance\n",
        "def get_displacement(osa_tags2):\n",
        "  result = []\n",
        "  pairs = []\n",
        "  for frame in osa_tags2.keys():\n",
        "    # print(osa_tags2[frame])\n",
        "    curr_tags = osa_tags2[frame]\n",
        "    if (len(curr_tags) > 1):\n",
        "      print(\"\\nFrame: \" + frame)\n",
        "      for i in range(len(curr_tags)):\n",
        "        for j in range(i + 1, len(curr_tags)):\n",
        "          curr = int(curr_tags[i])\n",
        "          next = int(curr_tags[j])\n",
        "\n",
        "          # Compare each tag within a frame, plus or minus 4, to find if it is on the same panel of OSA\n",
        "          if (abs(curr - next) < 5):\n",
        "            # print(\"Match found!\")\n",
        "            with open(filename, newline='') as csvfile:\n",
        "              reader = csv.DictReader(csvfile)\n",
        "              x_1 = 0\n",
        "              y_1 = 0\n",
        "              z_1 = 0\n",
        "              x_2 = 0\n",
        "              y_2 = 0\n",
        "              z_2 = 0\n",
        "              disp = 0\n",
        "\n",
        "              # per frame, a unique tag can only be detected once\n",
        "              for row in reader:\n",
        "                if (row['frame'] == str(frame) and row['tag ID'] == str(curr)):\n",
        "                  x_1 = float(row['pos x'].strip('[]'))\n",
        "                  y_1 = float(row['pos y'].strip('[]'))\n",
        "                  z_1 = float(row['pos z'].strip('[]'))\n",
        "\n",
        "                if (row['frame'] == str(frame) and row['tag ID'] == str(next)):\n",
        "                  x_2 = float(row['pos x'].strip('[]'))\n",
        "                  y_2 = float(row['pos y'].strip('[]'))\n",
        "                  z_2 = float(row['pos z'].strip('[]'))\n",
        "\n",
        "              disp = math.sqrt((x_1 - x_2)**2 + (y_1 - y_2)**2 + (z_1 - z_2)**2)\n",
        "              curr_result = [frame, curr, next, disp]\n",
        "              result.append(curr_result)\n",
        "              if [curr, next] not in pairs:\n",
        "                pairs.append([curr, next])\n",
        "              print(\"Displacement between tag \" + str(curr) + \" and tag \" + str(next) + \": \" + str(disp) + \"mm\")\n",
        "  return result, pairs"
      ],
      "metadata": {
        "id": "bm7W_w86XGgL"
      },
      "execution_count": null,
      "outputs": []
    },
    {
      "cell_type": "code",
      "source": [
        "# result holds the frame, pair tag, and the dispplacement between the tags at that frame\n",
        "# pairs holds all posible pairs detected\n",
        "result, pairs = get_displacement(osa_tags2)"
      ],
      "metadata": {
        "id": "keydlCb4XYmH"
      },
      "execution_count": null,
      "outputs": []
    },
    {
      "cell_type": "code",
      "source": [
        "# Display the return from get_displacement() function\n",
        "# result will display the frame, the pair tag, and the distance between the pair tags\n",
        "# pairs will display all possible pairs detected\n",
        "print(result)\n",
        "print(pairs)"
      ],
      "metadata": {
        "id": "FZXihGZvXrEV"
      },
      "execution_count": null,
      "outputs": []
    },
    {
      "cell_type": "code",
      "source": [
        "# Use result from get_displacement() function and place into a new csv file\n",
        "# columns: frame, curr, next, displacement\n",
        "def displacement_csv(result):\n",
        "  with open (filename + '_displacement.csv', 'w', newline='') as file:\n",
        "    writer = csv.writer(file)\n",
        "    writer.writerow([\"Frame\", \"Tag 1\", \"Tag 2\", \"Displacement\"])\n",
        "    for row in result:\n",
        "      writer.writerow(row)"
      ],
      "metadata": {
        "id": "geOwERfKYL9k"
      },
      "execution_count": null,
      "outputs": []
    },
    {
      "cell_type": "code",
      "source": [
        "displacement_csv(result)"
      ],
      "metadata": {
        "id": "Fh1L4mF7YWo_"
      },
      "execution_count": null,
      "outputs": []
    },
    {
      "cell_type": "markdown",
      "source": [
        "### TO DO: Choose a pair of detected tags from the list of tag pairs below"
      ],
      "metadata": {
        "id": "ZkENxM8lYhm6"
      }
    },
    {
      "cell_type": "code",
      "source": [
        "# List all pairs of detected tags\n",
        "pairs.sort()\n",
        "for pair in pairs:\n",
        "  print(pair)"
      ],
      "metadata": {
        "id": "XhaIUpeiYdfY"
      },
      "execution_count": null,
      "outputs": []
    },
    {
      "cell_type": "markdown",
      "source": [
        "# TO DO: Choose a pair of tags from the list above"
      ],
      "metadata": {
        "id": "ESsYblqdYvQT"
      }
    },
    {
      "cell_type": "code",
      "source": [
        "# TO DO: Choose a pair of tags\n",
        "tag1 = 13\n",
        "tag2 = 14"
      ],
      "metadata": {
        "id": "1znyFtryYrPR"
      },
      "execution_count": null,
      "outputs": []
    },
    {
      "cell_type": "code",
      "source": [
        "# Check if it's valid\n",
        "def check_tag_pairs(tag1, tag2):\n",
        "  if tag1 == tag2:\n",
        "    print('Error. Please choose unique tags for a tag pair.')\n",
        "  elif (abs(tag2 - tag1) > 4):\n",
        "    print('Error. Please choose tags from the same group.')\n",
        "  else:\n",
        "    if [tag1, tag2] in pairs:\n",
        "      print('Comparing tags ' + str(tag1) + ' and ' + str(tag2))\n",
        "      return True\n",
        "    else:\n",
        "      print('Tag pair not detected. Please choose a pair from the list.')\n",
        "  return False"
      ],
      "metadata": {
        "id": "K-3Uz-_VY1gr"
      },
      "execution_count": null,
      "outputs": []
    },
    {
      "cell_type": "code",
      "source": [
        "check_tag_pairs(tag1, tag2)"
      ],
      "metadata": {
        "id": "0icPqNG-Y4sx"
      },
      "execution_count": null,
      "outputs": []
    },
    {
      "cell_type": "code",
      "source": [
        "# Open displacement csv\n",
        "# Collect data for the specified valid tag pair\n",
        "# This data will be used to calculate mean squared error\n",
        "def get_data_tag_pair(filename, tag1, tag2):\n",
        "  dist_result = []\n",
        "  frames_result = []\n",
        "\n",
        "  with open (filename + '_displacement.csv', newline='') as file:\n",
        "    reader = csv.DictReader(file)\n",
        "    for row in reader:\n",
        "      if (row['Tag 1'] == str(tag1) and row['Tag 2'] == str(tag2)):\n",
        "        dist_result.append([row])\n",
        "        frames_result.append(row['Frame'])\n",
        "\n",
        "  return dist_result, frames_result"
      ],
      "metadata": {
        "id": "07CDcx-NZKiH"
      },
      "execution_count": null,
      "outputs": []
    },
    {
      "cell_type": "code",
      "source": [
        "dist_result, frames_result = get_data_tag_pair(filename, tag1, tag2)"
      ],
      "metadata": {
        "id": "O_RD0sR0Z-dC"
      },
      "execution_count": null,
      "outputs": []
    },
    {
      "cell_type": "code",
      "source": [
        "def plot_dist_tag_pair(frames, frames_result, dist_result, tag1, tag2):\n",
        "  dist = []\n",
        "  index = 0\n",
        "\n",
        "  for frame in frames:\n",
        "    if str(frame) in frames_result:\n",
        "      dist.append(float(dist_result[index][0]['Displacement']))\n",
        "      index += 1\n",
        "    else:\n",
        "      dist.append(np.nan)\n",
        "\n",
        "  # determine the expected distance between tag pair\n",
        "  # if tags are next to each other, they are 39mm apart, else 64mm apart\n",
        "  exp_dist = 0\n",
        "  if (abs(tag1 - tag2) == 1 or abs(tag1 - tag2) == 4):\n",
        "    exp_dist = 39\n",
        "  else:\n",
        "    exp_dist = 64\n",
        "\n",
        "  legend_label_pairs = 'Tag ' + str(tag1) + ' & ' + str(tag2)\n",
        "  legend_label_exp = 'Expected Distance: ' + str(exp_dist)\n",
        "  plt.plot(frames, dist, label=legend_label_pairs)\n",
        "  plt.plot(frames, [exp_dist]*len(dist), label=legend_label_exp)\n",
        "  plt.xlabel('Frame')\n",
        "  plt.ylabel('Distance between tag pair')\n",
        "  plt.legend()\n",
        "\n",
        "  # save the plot\n",
        "  plt.savefig(artag_dir + artag_filename + 'Measured & Expected Distance (' + str(tag1) + ', ' + str(tag2) + ').png')\n",
        "\n",
        "  plt.show()\n",
        "  return dist, exp_dist"
      ],
      "metadata": {
        "id": "CIVcv9RlbVsb"
      },
      "execution_count": null,
      "outputs": []
    },
    {
      "cell_type": "code",
      "source": [
        "dist, exp_dist = plot_dist_tag_pair(frames, frames_result, dist_result, tag1, tag2)"
      ],
      "metadata": {
        "id": "o9Aoq1hAbbMf"
      },
      "execution_count": null,
      "outputs": []
    },
    {
      "cell_type": "code",
      "source": [
        "# Calculate the MSE between the measured distance and the actual distance of tag pair\n",
        "def get_mse(test, pred, tag1, tag2):\n",
        "  from sklearn.metrics import mean_squared_error\n",
        "\n",
        "  # y_test are the expected displacement values (39mm or 64mm)\n",
        "  y_test = [x for x in test if str(x) != \"nan\"]\n",
        "\n",
        "  # y_pred are the displacement values that were detected and calculated\n",
        "  y_pred = [pred]*len(y_test)\n",
        "\n",
        "  mse = mean_squared_error(y_test, y_pred)\n",
        "  print('Tag pair: ' + str(tag1) + ', ' + str(tag2))\n",
        "  print('Mean Squared Error', mse)\n",
        "\n",
        "  return mse"
      ],
      "metadata": {
        "id": "blvuoue8bhuH"
      },
      "execution_count": null,
      "outputs": []
    },
    {
      "cell_type": "code",
      "source": [
        "mse = get_mse(dist, exp_dist, tag1, tag2)"
      ],
      "metadata": {
        "id": "UzftrEGbbjOb"
      },
      "execution_count": null,
      "outputs": []
    },
    {
      "cell_type": "markdown",
      "source": [
        "#Use the functions above to plot graphs based on displacement"
      ],
      "metadata": {
        "id": "wnR9xVxxbvrl"
      }
    },
    {
      "cell_type": "code",
      "source": [
        "# Make plots for all tag pairs\n",
        "all_mse = []\n",
        "\n",
        "for pair in pairs:\n",
        "  tag1 = pair[0]\n",
        "  tag2 = pair[1]\n",
        "\n",
        "  # Open displacement CSV and get data on selected tag pair\n",
        "  dist_result, frames_result = get_data_tag_pair(filename, tag1, tag2)\n",
        "\n",
        "  # Plot the tag pair\n",
        "  dist, exp_dist = plot_dist_tag_pair(frames, frames_result, dist_result, tag1, tag2)\n",
        "\n",
        "  # Print the MSE for the tag pair\n",
        "  mse = get_mse(dist, exp_dist, tag1, tag2)\n",
        "  all_mse.append(float(mse))"
      ],
      "metadata": {
        "id": "ob3HmqKhbssy"
      },
      "execution_count": null,
      "outputs": []
    },
    {
      "cell_type": "code",
      "source": [
        "# Create CSV with MSE (optional)\n",
        "results = []\n",
        "index = 0\n",
        "\n",
        "for pair in pairs:\n",
        "  tag1 = pair[0]\n",
        "  tag2 = pair[1]\n",
        "\n",
        "  exp_dist = 0\n",
        "  if (abs(tag1 - tag2) == 1 or abs(tag1 - tag2) == 4):\n",
        "    exp_dist = 39\n",
        "  else:\n",
        "    exp_dist = 64\n",
        "\n",
        "  results.append([tag1, tag2, exp_dist, all_mse[index]])\n",
        "\n",
        "  index += 1\n",
        "\n",
        "with open ('MSE.csv', 'w', newline='') as file:\n",
        "  writer = csv.writer(file)\n",
        "  writer.writerow([\"Tag 1\", \"Tag 2\", \"Expected\", \"MSE\"])\n",
        "  for row in results:\n",
        "      writer.writerow(row)"
      ],
      "metadata": {
        "id": "hWK_BVhRivE-"
      },
      "execution_count": null,
      "outputs": []
    },
    {
      "cell_type": "markdown",
      "source": [
        "#End of part 3"
      ],
      "metadata": {
        "id": "u98khSZWWqHb"
      }
    },
    {
      "cell_type": "markdown",
      "source": [
        "## PART 4\n",
        "\n",
        "> Documentation\n",
        "\n"
      ],
      "metadata": {
        "id": "DnqgeKkhflQE"
      }
    },
    {
      "cell_type": "code",
      "execution_count": null,
      "metadata": {
        "id": "hjrHhuq3WLDQ"
      },
      "outputs": [],
      "source": [
        "document = Document()\n",
        "\n",
        "document.add_heading(artag_filename, 0)\n",
        "\n",
        "# TO DO: Change Quad countour's value, units and tag size\n",
        "document.add_paragraph('File Name: ' + filename, style='List Bullet')\n",
        "document.add_paragraph('Radius: ' + str(radius) + ' mm', style='List Bullet')\n",
        "#document.add_paragraph('F: ' + str(f) + ' mm', style='List Bullet')\n",
        "document.add_paragraph('Total No. of Frames: ' + str(total_num_frame) + 'frames', style='List Bullet')\n",
        "document.add_paragraph('F: (' + str(fx) + ', ' + str(fy) + ') ', style='List Bullet')\n",
        "document.add_paragraph('C: (' + str(cx) + ', ' + str(cy) + ') ', style='List Bullet')\n",
        "document.add_paragraph('Dimensions: (' + str(original_width) + ', ' + str(original_height) + ') ', style='List Bullet')\n",
        "document.add_paragraph('Tag Size: 14 mm (real)', style='List Bullet')\n",
        "document.add_paragraph('Scaled: (' + str(scale_x) + ', ' + str(scale_y) + ') ', style='List Bullet')\n",
        "document.add_paragraph('Camera Parameters: ' + str(camera_params), style='List Bullet')\n",
        "document.add_paragraph('Date: ' + str(date), style='List Bullet')\n",
        "document.add_paragraph('Video Name: ' + videoname, style='List Bullet')\n",
        "document.add_paragraph('FPS: ' + str(fps), style='List Bullet')\n",
        "document.add_paragraph('Quad_contours: True', style='List Bullet')\n",
        "document.add_paragraph('Total number of tags: ' + str(len(osas)) + ' + ' + str(len(sroas)), style='List Bullet')\n",
        "document.add_paragraph('OSA: ' + str(osas), style='List Bullet')\n",
        "document.add_paragraph('SROA: ' + str(sroas), style='List Bullet')\n",
        "document.add_paragraph('options = apriltag.DetectorOptions(families=\"tag36h11\",border =1, nthreads=4, quad_decimate =1.0,quad_blur=0.0, refine_edges=True, refine_decode=False,refine_pose=True, debug=True, quad_contours=True)', style='List Bullet')\n",
        "document.add_picture(artag_dir + artag_filename + 'all_tags.png', width=Inches(5), height=Inches(5))\n",
        "document.add_picture(artag_dir + artag_filename + str(num_tags) +'_osa_tags.png', width=Inches(5), height=Inches(5))\n",
        "document.add_picture('Measured & Expected Distance (' + str(tag1) + ', ' + str(tag2) + ').png' , width=Inches(5), height=Inches(5))\n",
        "\n",
        "document.save(artag_dir + artag_filename + '.docx')\n",
        "print(artag_dir)\n"
      ]
    },
    {
      "cell_type": "code",
      "source": [
        "# doc_folder = '/content/drive/MyDrive/AR Tags/2. Data/Code Data/'\n",
        "# print(doc_folder)\n",
        "# doc_filename = artag_filename + '_Code'\n",
        "# print(doc_filename)\n",
        "\n",
        "# Define the folder path where you want to save the Google Doc\n",
        "doc_folder = artag_dir\n",
        "print(doc_folder)\n",
        "\n",
        "# Define the file name for the Google Doc\n",
        "doc_filename = artag_filename + '_Code'\n",
        "\n",
        "# Path of the current Colab notebook\n",
        "notebook_path = '/content/drive/MyDrive/AR Tags/5. Code/AprilTagDetection.ipynb'"
      ],
      "metadata": {
        "id": "hJmVOO0FxkfC"
      },
      "execution_count": null,
      "outputs": []
    },
    {
      "cell_type": "code",
      "source": [
        "import pprint\n",
        "import pygments\n",
        "import webbrowser\n",
        "from pygments.lexers import get_lexer_by_name\n",
        "from pygments.formatters import HtmlFormatter\n",
        "\n",
        "# Read the content of the notebook file\n",
        "with open(notebook_path, 'r') as f:\n",
        "    code_content = f.read()\n",
        "\n",
        "# Pretty-print the code content\n",
        "pretty_code = pprint.pformat(code_content)\n",
        "\n",
        "# Define the path and filename for the Google Doc\n",
        "doc_path = doc_folder + doc_filename + '.docx'\n",
        "\n",
        "# Save the code content as a document file\n",
        "with open(doc_path, 'w') as f:\n",
        "    f.write(code_content)\n",
        "\n",
        "\n",
        "print(\"Code saved successfully as a document file in the desired folder.\")\n"
      ],
      "metadata": {
        "id": "x8Vmu0XmXsnQ"
      },
      "execution_count": null,
      "outputs": []
    },
    {
      "cell_type": "code",
      "source": [
        "# # Read the content of the notebook file\n",
        "# with open(notebook_path, 'r') as f:\n",
        "#     code_content = f.read()\n",
        "\n",
        "# # Specify the programming language for syntax highlighting (e.g., 'python', 'java', 'javascript')\n",
        "# language = 'python'\n",
        "\n",
        "# # Get the lexer for the specified programming language\n",
        "# lexer = get_lexer_by_name(language)\n",
        "\n",
        "# # Apply syntax highlighting to the code content\n",
        "# highlighted_code = pygments.highlight(code_content, lexer, HtmlFormatter())\n",
        "\n",
        "# # Define the path and filename for the HTML file\n",
        "# html_path = doc_folder + doc_filename + '.html'\n",
        "\n",
        "# # Save the highlighted code as an HTML file\n",
        "# with open(html_path, 'w') as f:\n",
        "#     f.write(highlighted_code)\n",
        "\n",
        "# # Open the HTML file in a web browser\n",
        "# webbrowser.open('file://' + os.path.abspath(html_path))\n",
        "\n",
        "# print(\"Code saved successfully as an HTML file in the desired folder.\")\n"
      ],
      "metadata": {
        "id": "xbSBPBn4bR6e"
      },
      "execution_count": null,
      "outputs": []
    },
    {
      "cell_type": "code",
      "source": [
        "# import requests\n",
        "\n",
        "# # Read the content of the notebook file\n",
        "# with open(notebook_path, 'r') as f:\n",
        "#     code_content = f.read()\n",
        "\n",
        "# # Generate a new Google Doc\n",
        "# gdoc_url = 'https://docs.google.com/document/create'\n",
        "# response = requests.get(gdoc_url)\n",
        "# response.raise_for_status()\n",
        "# gdoc_url = response.url\n",
        "\n",
        "# # Open the Google Doc in edit mode\n",
        "# edit_url = gdoc_url + '/edit'\n",
        "# response = requests.get(edit_url)\n",
        "# response.raise_for_status()\n",
        "\n",
        "# # Extract the new Google Doc ID from the response URL\n",
        "# new_doc_id = response.url.split('/')[-2]\n",
        "# #\n",
        "# # Make a POST request to the document's edit URL to set the document content\n",
        "# post_url = f'https://docs.google.com/document/d/{new_doc_id}/edit'\n",
        "# data = {'content': code_content}\n",
        "# response = requests.post(post_url, data=data)\n",
        "# response.raise_for_status()\n",
        "\n",
        "# print(\"Code copied and saved to a newly generated Google Doc.\")\n",
        "\n",
        "# # Move the new Google Doc to the desired folder\n",
        "# folder_id = '14ubGTrSh-HS_u1PfIgXOF_BpM8nKo_nj'  # Replace with the actual folder ID\n",
        "# move_doc_url = f'https://docs.google.com/document/d/{new_doc_id}/moveTo/folder/{folder_id}'\n",
        "# requests.get(move_doc_url)\n",
        "\n",
        "# print(\"Code copied and saved to a Google Doc in the specified folder.\")\n"
      ],
      "metadata": {
        "id": "WjOYJ7CHlmx2"
      },
      "execution_count": null,
      "outputs": []
    },
    {
      "cell_type": "code",
      "source": [
        "\n",
        "# # Read the content of the notebook file\n",
        "# with open(notebook_path, 'r') as f:\n",
        "#     code_content = f.read()\n",
        "\n",
        "# # # Pretty-print the code content\n",
        "# pretty_code = pprint.pformat(code_content)\n",
        "\n",
        "# # Set the destination folder path\n",
        "# destination_folder = doc_folder\n",
        "\n",
        "# # Set the destination file name\n",
        "# destination_filename = doc_filename + '.txt'\n",
        "\n",
        "# # Save the code as a plain text file\n",
        "# destination_path = destination_folder + destination_filename\n",
        "# with open(destination_path, 'w') as f:\n",
        "#     f.write(code_content)\n",
        "\n",
        "# print(\"Code copied and saved to a text file in the specified folder.\")"
      ],
      "metadata": {
        "id": "5Uj8IxrSnwcQ"
      },
      "execution_count": null,
      "outputs": []
    },
    {
      "cell_type": "markdown",
      "metadata": {
        "id": "F-lYaTS7g4ot"
      },
      "source": [
        "## Part 5: Linear Regression and difference"
      ]
    }
  ],
  "metadata": {
    "colab": {
      "provenance": [],
      "gpuType": "T4",
      "include_colab_link": true
    },
    "kernelspec": {
      "display_name": "Python 3",
      "name": "python3"
    },
    "language_info": {
      "name": "python"
    }
  },
  "nbformat": 4,
  "nbformat_minor": 0
}